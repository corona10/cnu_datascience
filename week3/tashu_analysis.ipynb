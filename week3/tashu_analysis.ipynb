{
 "cells": [
  {
   "cell_type": "code",
   "execution_count": 24,
   "metadata": {
    "collapsed": false
   },
   "outputs": [],
   "source": [
    "%matplotlib inline\n",
    "from pandas import Series, DataFrame\n",
    "import pandas as pd\n",
    "import operator\n",
    "import numpy as np\n",
    "import matplotlib.pyplot as plt\n",
    "import matplotlib\n",
    "import copy\n",
    "import math\n",
    "from datetime import datetime\n",
    "matplotlib.rc('font',family='AppleGothic')\n",
    "# 한글 폰트가 깨지는 것을 방지하기 위한 설정 및 라이브러리 선언"
   ]
  },
  {
   "cell_type": "code",
   "execution_count": 5,
   "metadata": {
    "collapsed": false
   },
   "outputs": [],
   "source": [
    "# 선처리 된 엑셀 파일 읽어오기\n",
    "tashu_2013_1 = pd.read_excel('tashu_rental_2013_1.xlsx',sheetname=\"tashu_rental info_2013\" ,encoding = 'cp-949')\n",
    "tashu_2013_2 = pd.read_excel('tashu_rental_2013_2.xlsx',sheetname=\"tashu_rental info_2013\" ,encoding = 'cp-949')\n",
    "tashu_2014_1 = pd.read_excel('tashu_rental_2014_1.xlsx',sheetname=\"rental_info_2014_1\" ,encoding = 'cp-949')\n",
    "tashu_2014_2 = pd.read_excel('tashu_rental_2014_2.xlsx',sheetname=\"rental_info_2014_2\" ,encoding = 'cp-949')"
   ]
  },
  {
   "cell_type": "code",
   "execution_count": 54,
   "metadata": {
    "collapsed": false
   },
   "outputs": [
    {
     "data": {
      "text/plain": [
       "<matplotlib.text.Text at 0x1109f7950>"
      ]
     },
     "execution_count": 54,
     "metadata": {},
     "output_type": "execute_result"
    },
    {
     "data": {
      "image/png": "[encoded data removed]",
      "text/plain": [
       "<matplotlib.figure.Figure at 0x118f95d10>"
      ]
     },
     "metadata": {},
     "output_type": "display_data"
    }
   ],
   "source": [
    "# 회원 비회원 구분\n",
    "# NO는 비회원\n",
    "# YES는 회원\n",
    "member_count =  tashu_2013_1.groupby('IS_MEMBER').size() \\\n",
    "    + tashu_2013_2.groupby('IS_MEMBER').size() \\\n",
    "    + tashu_2014_1.groupby('IS_MEMBER').size() \\\n",
    "    + tashu_2014_2.groupby('IS_MEMBER').size()\n",
    "    \n",
    "plot = member_count.plot(kind = 'bar', alpha = 0.75, title = u'회원/비회원 이용 횟수', rot = 0)\n",
    "plot.set_xlabel(u'회원 구분')\n",
    "plot.set_ylabel(u'이용 횟수')"
   ]
  },
  {
   "cell_type": "code",
   "execution_count": 7,
   "metadata": {
    "collapsed": false
   },
   "outputs": [
    {
     "data": {
      "text/plain": [
       "<matplotlib.text.Text at 0x10d6ca610>"
      ]
     },
     "execution_count": 7,
     "metadata": {},
     "output_type": "execute_result"
    },
    {
     "data": {
      "image/png": "[encoded data removed]",
      "text/plain": [
       "<matplotlib.figure.Figure at 0x105062cd0>"
      ]
     },
     "metadata": {},
     "output_type": "display_data"
    }
   ],
   "source": [
    "# 지역구별 정류장 수\n",
    "station_info = pd.read_csv('201503_station_info.csv', encoding = 'cp949')\n",
    "station_count = station_info.groupby(u'구별').size()\n",
    "plot = station_count.plot(kind ='bar',alpha=0.75, title = u'구별 정류장 수',rot=0)\n",
    "plot.set_ylabel(u'정류장 수')\n",
    "plot.set_xlabel(u'지역구')"
   ]
  },
  {
   "cell_type": "code",
   "execution_count": null,
   "metadata": {
    "collapsed": true
   },
   "outputs": [],
   "source": [
    "# 인기있는 코스\n",
    "# SELECT COUNT(*) \n",
    "#        FROM TASHU_LOG\n",
    "#        GROUP BY \n",
    "#        TASHU_LOG.RENT_STATION AND RETURN_STATION\n",
    "#        ORDER BY DESC\n",
    "popular_course =  tashu_2013_1.groupby(['RENT_STATION', 'RETURN_STATION']).size() \\\n",
    "                    + tashu_2013_2.groupby(['RENT_STATION', 'RETURN_STATION']).size() \\\n",
    "                    + tashu_2014_2.groupby(['RENT_STATION', 'RETURN_STATION']).size() \\\n",
    "                    + tashu_2014_1.groupby(['RENT_STATION', 'RETURN_STATION']).size()\n",
    "popular_course =  popular_course.sort_values(ascending= False)\n",
    "print popular_course[:10]"
   ]
  },
  {
   "cell_type": "code",
   "execution_count": 45,
   "metadata": {
    "collapsed": false
   },
   "outputs": [
    {
     "name": "stdout",
     "output_type": "stream",
     "text": [
      "RENT_STATION\n",
      "3      117108\n",
      "56      65861\n",
      "31      58090\n",
      "17      57874\n",
      "32      51328\n",
      "33      50083\n",
      "14      40374\n",
      "21      38817\n",
      "55      38383\n",
      "30      37886\n",
      "105     36770\n",
      "60      36563\n",
      "8       36484\n",
      "1       34891\n",
      "46      34647\n",
      "19      34423\n",
      "108     32260\n",
      "12      31842\n",
      "18      31451\n",
      "22      29631\n",
      "4       27964\n",
      "10      27464\n",
      "dtype: float64\n"
     ]
    }
   ],
   "source": [
    "# 인기있는 정류장\n",
    "# SELECT COUNT(*) \n",
    "#        FROM TASHU_LOG\n",
    "#        GROUP BY \n",
    "#        TASHU_LOG.RENT_STATION\n",
    "#        ORDER BY DESC\n",
    "top10_station =  tashu_2013_1.groupby('RENT_STATION').size() \\\n",
    "                    + tashu_2013_2.groupby('RENT_STATION').size() \\\n",
    "                    + tashu_2014_2.groupby('RENT_STATION').size() \\\n",
    "                    + tashu_2014_1.groupby('RENT_STATION').size()\n",
    "top10_station =  top10_station.sort_values(ascending= False)\n",
    "print top10_station[:10]"
   ]
  },
  {
   "cell_type": "code",
   "execution_count": null,
   "metadata": {
    "collapsed": true
   },
   "outputs": [],
   "source": []
  }
 ],
 "metadata": {
  "kernelspec": {
   "display_name": "Python 2",
   "language": "python",
   "name": "python2"
  },
  "language_info": {
   "codemirror_mode": {
    "name": "ipython",
    "version": 2
   },
   "file_extension": ".py",
   "mimetype": "text/x-python",
   "name": "python",
   "nbconvert_exporter": "python",
   "pygments_lexer": "ipython2",
   "version": "2.7.10"
  }
 },
 "nbformat": 4,
 "nbformat_minor": 0
}
