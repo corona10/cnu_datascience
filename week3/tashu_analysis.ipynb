{
 "cells": [
  {
   "cell_type": "code",
   "execution_count": 1,
   "metadata": {
    "collapsed": false
   },
   "outputs": [],
   "source": [
    "%matplotlib inline\n",
    "from pandas import Series, DataFrame\n",
    "import pandas as pd\n",
    "import operator\n",
    "import numpy as np\n",
    "import matplotlib.pyplot as plt\n",
    "import matplotlib\n",
    "import copy\n",
    "import math\n",
    "from datetime import datetime\n",
    "matplotlib.rc('font',family='AppleGothic')\n",
    "# 한글 폰트가 깨지는 것을 방지하기 위한 설정 및 라이브러리 선언"
   ]
  },
  {
   "cell_type": "code",
   "execution_count": 2,
   "metadata": {
    "collapsed": false
   },
   "outputs": [],
   "source": [
    "# 선처리 된 엑셀 파일 읽어오기\n",
    "tashu_2013_1 = pd.read_csv('tashu_rental_2013_1.csv')\n",
    "tashu_2013_2 = pd.read_csv('tashu_rental_2013_2.csv')\n",
    "tashu_2014_1 = pd.read_csv('tashu_rental_2014_1.csv')\n",
    "tashu_2014_2 = pd.read_csv('tashu_rental_2014_2.csv')"
   ]
  },
  {
   "cell_type": "code",
   "execution_count": 8,
   "metadata": {
    "collapsed": false
   },
   "outputs": [
    {
     "data": {
      "text/plain": [
       "<matplotlib.text.Text at 0x10a0faad0>"
      ]
     },
     "execution_count": 8,
     "metadata": {},
     "output_type": "execute_result"
    },
    {
     "data": {
      "image/png": "[encoded data removed]",
      "text/plain": [
       "<matplotlib.figure.Figure at 0x106b8f190>"
      ]
     },
     "metadata": {},
     "output_type": "display_data"
    }
   ],
   "source": [
    "# 회원 비회원 구분\n",
    "# NO는 비회원\n",
    "# YES는 회원\n",
    "# SELECT COUNT(*)\n",
    "# FROM TASHU_LOG\n",
    "# GROUP BY IS_MEMBER\n",
    "member_count =  tashu_2013_1.groupby('IS_MEMBER').size() \\\n",
    "    + tashu_2013_2.groupby('IS_MEMBER').size() \\\n",
    "    + tashu_2014_1.groupby('IS_MEMBER').size() \\\n",
    "    + tashu_2014_2.groupby('IS_MEMBER').size()\n",
    "    \n",
    "plot = member_count.plot(kind = 'bar', alpha = 0.75, title = u'회원/비회원 이용 횟수', rot = 0)\n",
    "plot.set_xlabel(u'회원 구분')\n",
    "plot.set_ylabel(u'이용 횟수')"
   ]
  },
  {
   "cell_type": "code",
   "execution_count": 4,
   "metadata": {
    "collapsed": false
   },
   "outputs": [
    {
     "data": {
      "text/plain": [
       "<matplotlib.text.Text at 0x107a12950>"
      ]
     },
     "execution_count": 4,
     "metadata": {},
     "output_type": "execute_result"
    },
    {
     "data": {
      "image/png": "[encoded data removed]",
      "text/plain": [
       "<matplotlib.figure.Figure at 0x107996d90>"
      ]
     },
     "metadata": {},
     "output_type": "display_data"
    }
   ],
   "source": [
    "# 지역구별 정류장 수\n",
    "# SELECT COUNT(*)\n",
    "# FROM STATION_INFO\n",
    "# GROUP BY STATION_INFO.구별\n",
    "station_info = pd.read_csv('201503_station_info.csv', encoding = 'cp949')\n",
    "station_count = station_info.groupby(u'구별').size()\n",
    "plot = station_count.plot(kind ='bar',alpha=0.75, title = u'구별 정류장 수',rot=0)\n",
    "plot.set_ylabel(u'정류장 수')\n",
    "plot.set_xlabel(u'지역구')"
   ]
  },
  {
   "cell_type": "code",
   "execution_count": 25,
   "metadata": {
    "collapsed": false
   },
   "outputs": [
    {
     "name": "stdout",
     "output_type": "stream",
     "text": [
      " 한밭수목원(정문입구) to  한밭수목원(정문입구) 58581.0\n",
      "유성구청 to 유성구청 15216.0\n",
      " 충대정문(장대네거리) to  충대정문(장대네거리) 13177.0\n",
      "카이스트 학사식당 앞 to 카이스트 서쪽 쪽문 11523.0\n",
      "무역전시관입구(택시승강장 앞) to 무역전시관입구(택시승강장 앞) 10380.0\n",
      " 충대정문(장대네거리) to  홈플러스(유성점) 8729.0\n",
      "월평역 to 월평역 8506.0\n",
      " 홈플러스(유성점) to  홈플러스(유성점) 8387.0\n",
      "카이스트 서쪽 쪽문 to 카이스트 학사식당 앞 8252.0\n",
      " 홈플러스(유성점) to  충대정문(장대네거리) 8130.0\n"
     ]
    }
   ],
   "source": [
    "# 인기있는 코스\n",
    "# SELECT COUNT(*) \n",
    "#        FROM TASHU_LOG\n",
    "#        GROUP BY \n",
    "#        TASHU_LOG.RENT_STATION AND RETURN_STATION\n",
    "#        ORDER BY DESC\n",
    "popular_course =  tashu_2013_1.groupby(['RENT_STATION', 'RETURN_STATION']).size() \\\n",
    "                    + tashu_2013_2.groupby(['RENT_STATION', 'RETURN_STATION']).size() \\\n",
    "                    + tashu_2014_2.groupby(['RENT_STATION', 'RETURN_STATION']).size() \\\n",
    "                    + tashu_2014_1.groupby(['RENT_STATION', 'RETURN_STATION']).size()\n",
    "popular_course =  popular_course.sort_values(ascending= False)\n",
    "for i in popular_course.index[:10]:\n",
    "    print station_info[station_info[u'번호'] == i[0]][u'명칭'].iloc[0],'to',station_info[station_info[u'번호'] == i[1]][u'명칭'].iloc[0], popular_course[i]"
   ]
  },
  {
   "cell_type": "code",
   "execution_count": 5,
   "metadata": {
    "collapsed": false,
    "scrolled": true
   },
   "outputs": [
    {
     "name": "stdout",
     "output_type": "stream",
     "text": [
      " 한밭수목원(정문입구) 117108.0\n",
      " 충대정문(장대네거리) 65861.0\n",
      "유성구청 58090.0\n",
      "타임월드 앞  57874.0\n",
      " 홈플러스(유성점) 51328.0\n",
      "월평역 50083.0\n",
      "둔산 하이마트 앞 40374.0\n",
      "카이스트 학사식당 앞 38817.0\n",
      " 충대정문오거리 1 38383.0\n",
      "선사유적지주차장 앞 37886.0\n",
      "카이스트 서쪽 쪽문 36770.0\n",
      " 유성온천역 3번출구 36563.0\n",
      " 정부청사 입구(샘머리) 36484.0\n",
      "무역전시관입구(택시승강장 앞) 34891.0\n",
      " 경성큰마을 앞 34647.0\n",
      " 현대아이텔 앞(버스정류장) 34423.0\n",
      "목원대 32260.0\n",
      " 정부청사역 앞(4번 출구) 31842.0\n",
      " 대전시청 앞 31451.0\n",
      "카이스트 창의학습관 앞 29631.0\n",
      "초원아파트104동부근(버스정류장) 27964.0\n",
      "만년동 KBS 부근(기업은행 앞) 27464.0\n",
      " 대전종합고용지원센터 26897.0\n",
      " 유성온천역 6번출구 26646.0\n",
      " 둔산 홈플러스 앞 25661.0\n",
      "둔산여고 앞 24896.0\n",
      "만년동주민센터 23025.0\n",
      "카이스트 다솜관 22790.0\n",
      "용문4가 22708.0\n",
      " 청솔아파트앞 22461.0\n",
      " 둔산대공원 입구(버스정류장) 22430.0\n",
      " 궁동네거리 22186.0\n",
      " 삼천중학교 앞 21687.0\n",
      "정부청사 입구(대덕대로) 21635.0\n",
      " 도안휴먼시아 10단지 앞 21583.0\n",
      "카이스트 정문 21388.0\n",
      " 휴먼시아 6단지 앞 20946.0\n",
      " 국화아파트앞(501동 앞) 20900.0\n",
      " 갈마1동 주민센터 앞 19445.0\n",
      " 한진오피스텔 앞 19357.0\n",
      " 한국농어촌공사 앞 19214.0\n",
      "백합4가 앞(농협앞) 18678.0\n",
      "서부농협본점  18590.0\n",
      "진달래아파트앞 18441.0\n",
      "누리아파트앞(후문버스정류장) 17860.0\n",
      " 유등교 17741.0\n",
      "대전컨벤션 센터 앞 17471.0\n",
      "카이스트 세종관 17355.0\n",
      "갈마역 16939.0\n",
      "나르메아파트길건너 16719.0\n",
      " 한가람아파트 앞 16217.0\n",
      " 남선공원종합체육관 앞 15410.0\n",
      " 도안휴먼시아 1단지 앞 15057.0\n",
      " 오페라웨딩홀 앞 14857.0\n",
      "황실아파트앞(성룡초교 앞) 14850.0\n",
      " 크로바아파트앞\n",
      "(목련아파트 사이 버스정류장) 13787.0\n",
      " 트리플시티 앞 13730.0\n",
      " 을지대학병원 앞 13699.0\n",
      "스마트시티 13582.0\n",
      " 유승기업사 앞 13577.0\n",
      " 한라비발디 앞 13538.0\n",
      " 갑천역 1번출구 13260.0\n",
      " 신안인스빌리베라 앞 13073.0\n",
      " 상대초교 앞 13055.0\n",
      " 가람아파트앞 13012.0\n",
      " 대전지방국세청 앞 13008.0\n",
      " 수정타운아파트앞 12470.0\n",
      "순복음 교회(수침교 앞) 11525.0\n",
      " 만년교 앞 10879.0\n",
      " 구암역 3번출구 10619.0\n",
      "엑스포 과학공원 주차장 10442.0\n",
      " 탄방지하차도 앞 10306.0\n",
      "엑스포 과학공원 앞 9824.0\n",
      "카이스트 후문 9682.0\n",
      " 동춘당공원 9522.0\n",
      " 유평초등학교 앞 9500.0\n",
      " 버드내초등학교 앞 9269.0\n",
      " 쌍용예가아파트앞 9255.0\n",
      " 목련 1단지 앞 9115.0\n",
      " 대전일보 앞 8896.0\n",
      " 판암역 1번출구 8302.0\n",
      "가장교(성은사 앞) 8196.0\n",
      " 삼부프라자 앞 8026.0\n",
      " 대전중리시장 앞 7596.0\n",
      " 강남한의원 앞 7244.0\n",
      " 서대전육교 앞 7238.0\n",
      "중앙과학관 7153.0\n",
      " 센트럴시티 6959.0\n",
      "화폐박물관 6732.0\n",
      " 수도시설관리사업소 앞 6400.0\n",
      " 패션월드 앞 6196.0\n",
      " 중리동 6071.0\n",
      " 월평타운 앞 5979.0\n",
      " 선비마을 5단지 앞 5825.0\n",
      " 태평1동 주민센터 앞 5825.0\n",
      " 은어송마을입구 5687.0\n",
      " 가오고등학교 앞 5314.0\n",
      " 버드내네거리 5271.0\n",
      " 선비마을 입구 5108.0\n",
      " 홈플러스(가오점) 5061.0\n",
      " 서대전농협 4902.0\n",
      " 홈플러스(가오점 건너편) 4359.0\n",
      " 대전동부경찰서 앞 4335.0\n",
      " 대전중앙병원 앞 4255.0\n",
      " 판암역 4번출구 4207.0\n",
      " 선비마을 3단지 앞 4098.0\n",
      " 태평초등학교 앞 4056.0\n",
      " 송촌소방서앞 4052.0\n",
      " 미리내아파트앞 4019.0\n",
      " 보람아파트앞 3075.0\n",
      " 은어송마을 4단지 앞 3031.0\n",
      "태평동성당 2983.0\n",
      " 은어송마을 2단지 앞 2770.0\n",
      " 남부평생교육문화센터 2620.0\n",
      "한전건너편 nan\n",
      "홈플러스(동대전) nan\n",
      "동부네거리 nan\n",
      "복합터미널 nan\n",
      "용전동 천주교회앞 nan\n",
      "한국통신 용전지점 앞 nan\n",
      "용전동 주민센터 건너 nan\n",
      "한남대후문 입구 nan\n",
      "대덕경찰서앞 nan\n",
      "목상동주민센터앞 nan\n",
      "엑슬루타워 앞 nan\n",
      "신탄진 주민센터옆 nan\n",
      "신탄진역 앞 nan\n",
      "과선교버스정류장 nan\n",
      "신탄진고 4가 nan\n",
      "용정초등학교앞 nan\n",
      "에코공원앞 nan\n",
      "삼정3가 nan\n",
      "오룡역7번출구 nan\n",
      "중도일보사 앞 nan\n",
      "서대전역네거리(삼성디지털 프라자) nan\n",
      "중구청역4번출구(중구청의회) nan\n",
      "센트럴파크 302동 앞 nan\n",
      "센트럴파크 105동 앞 nan\n",
      "서대전지하철3번출구(대순진리회) nan\n",
      "대전시민대학 정문 nan\n",
      "대전 세무서앞 nan\n",
      "참좋은APT 가자주류대전 nan\n",
      "중앙로역3번출구(궁죽본점앞) nan\n",
      "타슈 관제센터 nan\n"
     ]
    },
    {
     "ename": "IndexError",
     "evalue": "single positional indexer is out-of-bounds",
     "output_type": "error",
     "traceback": [
      "\u001b[0;31m---------------------------------------------------------------------------\u001b[0m",
      "\u001b[0;31mIndexError\u001b[0m                                Traceback (most recent call last)",
      "\u001b[0;32m<ipython-input-5-7714a1121db2>\u001b[0m in \u001b[0;36m<module>\u001b[0;34m()\u001b[0m\n\u001b[1;32m      8\u001b[0m \u001b[0mtop10_station\u001b[0m \u001b[0;34m=\u001b[0m  \u001b[0mtop10_station\u001b[0m\u001b[0;34m.\u001b[0m\u001b[0msort_values\u001b[0m\u001b[0;34m(\u001b[0m\u001b[0mascending\u001b[0m\u001b[0;34m=\u001b[0m \u001b[0mFalse\u001b[0m\u001b[0;34m)\u001b[0m\u001b[0;34m\u001b[0m\u001b[0m\n\u001b[1;32m      9\u001b[0m \u001b[0;32mfor\u001b[0m \u001b[0mi\u001b[0m \u001b[0;32min\u001b[0m \u001b[0mtop10_station\u001b[0m\u001b[0;34m.\u001b[0m\u001b[0mindex\u001b[0m\u001b[0;34m:\u001b[0m\u001b[0;34m\u001b[0m\u001b[0m\n\u001b[0;32m---> 10\u001b[0;31m     \u001b[0;32mprint\u001b[0m \u001b[0mstation_info\u001b[0m\u001b[0;34m[\u001b[0m\u001b[0mstation_info\u001b[0m\u001b[0;34m[\u001b[0m\u001b[0;34mu'번호'\u001b[0m\u001b[0;34m]\u001b[0m \u001b[0;34m==\u001b[0m \u001b[0mi\u001b[0m\u001b[0;34m]\u001b[0m\u001b[0;34m[\u001b[0m\u001b[0;34mu'명칭'\u001b[0m\u001b[0;34m]\u001b[0m\u001b[0;34m.\u001b[0m\u001b[0miloc\u001b[0m\u001b[0;34m[\u001b[0m\u001b[0;36m0\u001b[0m\u001b[0;34m]\u001b[0m\u001b[0;34m,\u001b[0m \u001b[0mtop10_station\u001b[0m\u001b[0;34m[\u001b[0m\u001b[0mi\u001b[0m\u001b[0;34m]\u001b[0m\u001b[0;34m\u001b[0m\u001b[0m\n\u001b[0m",
      "\u001b[0;32m/Library/Python/2.7/site-packages/pandas/core/indexing.pyc\u001b[0m in \u001b[0;36m__getitem__\u001b[0;34m(self, key)\u001b[0m\n\u001b[1;32m   1225\u001b[0m             \u001b[0;32mreturn\u001b[0m \u001b[0mself\u001b[0m\u001b[0;34m.\u001b[0m\u001b[0m_getitem_tuple\u001b[0m\u001b[0;34m(\u001b[0m\u001b[0mkey\u001b[0m\u001b[0;34m)\u001b[0m\u001b[0;34m\u001b[0m\u001b[0m\n\u001b[1;32m   1226\u001b[0m         \u001b[0;32melse\u001b[0m\u001b[0;34m:\u001b[0m\u001b[0;34m\u001b[0m\u001b[0m\n\u001b[0;32m-> 1227\u001b[0;31m             \u001b[0;32mreturn\u001b[0m \u001b[0mself\u001b[0m\u001b[0;34m.\u001b[0m\u001b[0m_getitem_axis\u001b[0m\u001b[0;34m(\u001b[0m\u001b[0mkey\u001b[0m\u001b[0;34m,\u001b[0m \u001b[0maxis\u001b[0m\u001b[0;34m=\u001b[0m\u001b[0;36m0\u001b[0m\u001b[0;34m)\u001b[0m\u001b[0;34m\u001b[0m\u001b[0m\n\u001b[0m\u001b[1;32m   1228\u001b[0m \u001b[0;34m\u001b[0m\u001b[0m\n\u001b[1;32m   1229\u001b[0m     \u001b[0;32mdef\u001b[0m \u001b[0m_getitem_axis\u001b[0m\u001b[0;34m(\u001b[0m\u001b[0mself\u001b[0m\u001b[0;34m,\u001b[0m \u001b[0mkey\u001b[0m\u001b[0;34m,\u001b[0m \u001b[0maxis\u001b[0m\u001b[0;34m=\u001b[0m\u001b[0;36m0\u001b[0m\u001b[0;34m)\u001b[0m\u001b[0;34m:\u001b[0m\u001b[0;34m\u001b[0m\u001b[0m\n",
      "\u001b[0;32m/Library/Python/2.7/site-packages/pandas/core/indexing.pyc\u001b[0m in \u001b[0;36m_getitem_axis\u001b[0;34m(self, key, axis)\u001b[0m\n\u001b[1;32m   1515\u001b[0m \u001b[0;34m\u001b[0m\u001b[0m\n\u001b[1;32m   1516\u001b[0m                 \u001b[0;31m# validate the location\u001b[0m\u001b[0;34m\u001b[0m\u001b[0;34m\u001b[0m\u001b[0m\n\u001b[0;32m-> 1517\u001b[0;31m                 \u001b[0mself\u001b[0m\u001b[0;34m.\u001b[0m\u001b[0m_is_valid_integer\u001b[0m\u001b[0;34m(\u001b[0m\u001b[0mkey\u001b[0m\u001b[0;34m,\u001b[0m \u001b[0maxis\u001b[0m\u001b[0;34m)\u001b[0m\u001b[0;34m\u001b[0m\u001b[0m\n\u001b[0m\u001b[1;32m   1518\u001b[0m \u001b[0;34m\u001b[0m\u001b[0m\n\u001b[1;32m   1519\u001b[0m             \u001b[0;32mreturn\u001b[0m \u001b[0mself\u001b[0m\u001b[0;34m.\u001b[0m\u001b[0m_get_loc\u001b[0m\u001b[0;34m(\u001b[0m\u001b[0mkey\u001b[0m\u001b[0;34m,\u001b[0m \u001b[0maxis\u001b[0m\u001b[0;34m=\u001b[0m\u001b[0maxis\u001b[0m\u001b[0;34m)\u001b[0m\u001b[0;34m\u001b[0m\u001b[0m\n",
      "\u001b[0;32m/Library/Python/2.7/site-packages/pandas/core/indexing.pyc\u001b[0m in \u001b[0;36m_is_valid_integer\u001b[0;34m(self, key, axis)\u001b[0m\n\u001b[1;32m   1429\u001b[0m         \u001b[0ml\u001b[0m \u001b[0;34m=\u001b[0m \u001b[0mlen\u001b[0m\u001b[0;34m(\u001b[0m\u001b[0max\u001b[0m\u001b[0;34m)\u001b[0m\u001b[0;34m\u001b[0m\u001b[0m\n\u001b[1;32m   1430\u001b[0m         \u001b[0;32mif\u001b[0m \u001b[0mkey\u001b[0m \u001b[0;34m>=\u001b[0m \u001b[0ml\u001b[0m \u001b[0;32mor\u001b[0m \u001b[0mkey\u001b[0m \u001b[0;34m<\u001b[0m \u001b[0;34m-\u001b[0m\u001b[0ml\u001b[0m\u001b[0;34m:\u001b[0m\u001b[0;34m\u001b[0m\u001b[0m\n\u001b[0;32m-> 1431\u001b[0;31m             \u001b[0;32mraise\u001b[0m \u001b[0mIndexError\u001b[0m\u001b[0;34m(\u001b[0m\u001b[0;34m\"single positional indexer is out-of-bounds\"\u001b[0m\u001b[0;34m)\u001b[0m\u001b[0;34m\u001b[0m\u001b[0m\n\u001b[0m\u001b[1;32m   1432\u001b[0m         \u001b[0;32mreturn\u001b[0m \u001b[0mTrue\u001b[0m\u001b[0;34m\u001b[0m\u001b[0m\n\u001b[1;32m   1433\u001b[0m \u001b[0;34m\u001b[0m\u001b[0m\n",
      "\u001b[0;31mIndexError\u001b[0m: single positional indexer is out-of-bounds"
     ]
    }
   ],
   "source": [
    "# 인기있는 정류장\n",
    "# SELECT COUNT(*) \n",
    "#        FROM TASHU_LOG\n",
    "#        GROUP BY \n",
    "#        TASHU_LOG.RENT_STATION\n",
    "#        ORDER BY DESC\n",
    "top10_station =  tashu_2013_1.groupby('RENT_STATION').size() \\\n",
    "                    + tashu_2013_2.groupby('RENT_STATION').size() \\\n",
    "                    + tashu_2014_2.groupby('RENT_STATION').size() \\\n",
    "                    + tashu_2014_1.groupby('RENT_STATION').size()\n",
    "top10_station =  top10_station.sort_values(ascending= False)\n",
    "for i in top10_station.index:\n",
    "    print station_info[station_info[u'번호'] == i][u'명칭'].iloc[0], top10_station[i]"
   ]
  },
  {
   "cell_type": "code",
   "execution_count": null,
   "metadata": {
    "collapsed": true
   },
   "outputs": [],
   "source": []
  }
 ],
 "metadata": {
  "kernelspec": {
   "display_name": "Python 2",
   "language": "python",
   "name": "python2"
  },
  "language_info": {
   "codemirror_mode": {
    "name": "ipython",
    "version": 2
   },
   "file_extension": ".py",
   "mimetype": "text/x-python",
   "name": "python",
   "nbconvert_exporter": "python",
   "pygments_lexer": "ipython2",
   "version": "2.7.10"
  }
 },
 "nbformat": 4,
 "nbformat_minor": 0
}
