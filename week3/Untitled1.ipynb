{
 "cells": [
  {
   "cell_type": "code",
   "execution_count": 18,
   "metadata": {
    "collapsed": false
   },
   "outputs": [],
   "source": [
    "from pandas import Series, DataFrame\n",
    "step_data = [9203, 7588, 8701, 5696, 15271, 11854, 8419]\n",
    "day = ['2016-1-10', '2016-1-11', '2016-1-12', '2016-1-13', '2016-1-14', '2016-1-15', '2016-1-16']\n",
    "steps = Series(step_data, index= day)"
   ]
  },
  {
   "cell_type": "code",
   "execution_count": 19,
   "metadata": {
    "collapsed": false
   },
   "outputs": [
    {
     "name": "stdout",
     "output_type": "stream",
     "text": [
      "2016-1-10     9203\n",
      "2016-1-11     7588\n",
      "2016-1-12     8701\n",
      "2016-1-13     5696\n",
      "2016-1-14    15271\n",
      "2016-1-15    11854\n",
      "2016-1-16     8419\n",
      "dtype: int64\n"
     ]
    }
   ],
   "source": [
    "print steps"
   ]
  },
  {
   "cell_type": "code",
   "execution_count": 20,
   "metadata": {
    "collapsed": false,
    "scrolled": true
   },
   "outputs": [
    {
     "name": "stdout",
     "output_type": "stream",
     "text": [
      "2016-1-10     9203\n",
      "2016-1-11     7588\n",
      "2016-1-12     8701\n",
      "2016-1-13     5696\n",
      "2016-1-14    15271\n",
      "2016-1-15    11854\n",
      "2016-1-16     8419\n",
      "dtype: int64\n",
      "total  66732\n"
     ]
    }
   ],
   "source": [
    "total = 0 \n",
    "for d in day:\n",
    "    total += steps[d]\n",
    "\n",
    "print steps\n",
    "print 'total ', total"
   ]
  },
  {
   "cell_type": "code",
   "execution_count": 25,
   "metadata": {
    "collapsed": false
   },
   "outputs": [
    {
     "name": "stdout",
     "output_type": "stream",
     "text": [
      "2016-1-10    15\n",
      "2016-1-11     5\n",
      "2016-1-12    12\n",
      "2016-1-13    11\n",
      "2016-1-14    27\n",
      "2016-1-15    25\n",
      "2016-1-16     7\n",
      "dtype: int64\n"
     ]
    }
   ],
   "source": [
    "floors_data = [15, 5, 12 ,11, 27, 25, 7]\n",
    "floors = dict()\n",
    "for i in range(len(floors_data)):\n",
    "    floors[day[i]] = floors_data[i]\n",
    "floors = Series(floors)\n",
    "print floors"
   ]
  },
  {
   "cell_type": "code",
   "execution_count": 21,
   "metadata": {
    "collapsed": false
   },
   "outputs": [
    {
     "name": "stdout",
     "output_type": "stream",
     "text": [
      "                date  floors  steps\n",
      "2016-1-10  2016-1-10      15   9203\n",
      "2016-1-11  2016-1-11       5   7588\n",
      "2016-1-12  2016-1-12      12   8701\n",
      "2016-1-13  2016-1-13      11   5696\n",
      "2016-1-14  2016-1-14      27  15271\n",
      "2016-1-15  2016-1-15      25  11854\n",
      "2016-1-16  2016-1-16       7   8419\n"
     ]
    }
   ],
   "source": [
    "floors = [15, 5, 12 ,11, 27, 25, 7]\n",
    "activity = { 'date': day, 'steps': steps, 'floors':floors}\n",
    "frame = DataFrame(activity)\n",
    "print frame"
   ]
  },
  {
   "cell_type": "code",
   "execution_count": null,
   "metadata": {
    "collapsed": true
   },
   "outputs": [],
   "source": []
  }
 ],
 "metadata": {
  "kernelspec": {
   "display_name": "Python 2",
   "language": "python",
   "name": "python2"
  },
  "language_info": {
   "codemirror_mode": {
    "name": "ipython",
    "version": 2
   },
   "file_extension": ".py",
   "mimetype": "text/x-python",
   "name": "python",
   "nbconvert_exporter": "python",
   "pygments_lexer": "ipython2",
   "version": "2.7.10"
  }
 },
 "nbformat": 4,
 "nbformat_minor": 0
}
